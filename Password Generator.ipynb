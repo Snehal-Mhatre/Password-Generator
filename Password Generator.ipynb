{
 "cells": [
  {
   "cell_type": "code",
   "execution_count": 1,
   "id": "ea1a6557",
   "metadata": {},
   "outputs": [],
   "source": [
    "#import the necessary libraries\n",
    "import random\n",
    "import string"
   ]
  },
  {
   "cell_type": "code",
   "execution_count": 2,
   "id": "9a261861",
   "metadata": {},
   "outputs": [],
   "source": [
    "# define the data\n",
    "letters = string.ascii_letters\n",
    "digits = string.digits\n",
    "punctuation = string.punctuation\n",
    "special_characters = \"!@#$%^&*()\"\n",
    "characters = (letters + digits + punctuation + special_characters)"
   ]
  },
  {
   "cell_type": "code",
   "execution_count": 3,
   "id": "6af37666",
   "metadata": {},
   "outputs": [],
   "source": [
    "# password genearator method\n",
    "def password_generator(length):\n",
    "    temp_pass = random.sample(characters, length)\n",
    "    password = \"\".join(temp_pass)\n",
    "    return password"
   ]
  },
  {
   "cell_type": "code",
   "execution_count": 4,
   "id": "4992d0c0",
   "metadata": {},
   "outputs": [
    {
     "name": "stdout",
     "output_type": "stream",
     "text": [
      "Enter the length of password: 8\n",
      "iQ:?*KU/\n"
     ]
    }
   ],
   "source": [
    "# Take input from user\n",
    "\n",
    "def main_pass():\n",
    "    pass_length = int(input(\"Enter the length of password: \"))\n",
    "    if pass_length <= 6 :\n",
    "        print(\"Password should be more than 6 characters\")\n",
    "    else:\n",
    "        result = password_generator(pass_length)\n",
    "        print(result)\n",
    "\n",
    "main_pass()       \n"
   ]
  }
 ],
 "metadata": {
  "kernelspec": {
   "display_name": "Python 3",
   "language": "python",
   "name": "python3"
  },
  "language_info": {
   "codemirror_mode": {
    "name": "ipython",
    "version": 3
   },
   "file_extension": ".py",
   "mimetype": "text/x-python",
   "name": "python",
   "nbconvert_exporter": "python",
   "pygments_lexer": "ipython3",
   "version": "3.8.8"
  }
 },
 "nbformat": 4,
 "nbformat_minor": 5
}
