{
 "cells": [
  {
   "cell_type": "code",
   "execution_count": 1,
   "id": "3fc1d931",
   "metadata": {},
   "outputs": [],
   "source": [
    "#import the necessary libraries\n",
    "import random\n",
    "import string"
   ]
  },
  {
   "cell_type": "code",
   "execution_count": 2,
   "id": "4058dd45",
   "metadata": {},
   "outputs": [],
   "source": [
    "# define the data\n",
    "letters = string.ascii_letters\n",
    "digits = string.digits\n",
    "punctuation = string.punctuation\n",
    "special_characters = \"!@#$%^&*()\"\n",
    "characters = (letters + digits + punctuation + special_characters)"
   ]
  },
  {
   "cell_type": "code",
   "execution_count": 3,
   "id": "9b7e2252",
   "metadata": {},
   "outputs": [],
   "source": [
    "# password genearator method\n",
    "def password_generator(length):\n",
    "    temp_pass = random.sample(characters, length)\n",
    "    password = \"\".join(temp_pass)\n",
    "    return password"
   ]
  },
  {
   "cell_type": "code",
   "execution_count": 4,
   "id": "fc29c70f",
   "metadata": {},
   "outputs": [
    {
     "name": "stdout",
     "output_type": "stream",
     "text": [
      "Enter the length of password: 10\n",
      "&G:Uk(t!$W\n"
     ]
    }
   ],
   "source": [
    "# Take input from user\n",
    "num = int(input(\"Enter the length of password: \"))\n",
    "result = password_generator(num)\n",
    "print(result)"
   ]
  }
 ],
 "metadata": {
  "kernelspec": {
   "display_name": "Python 3",
   "language": "python",
   "name": "python3"
  },
  "language_info": {
   "codemirror_mode": {
    "name": "ipython",
    "version": 3
   },
   "file_extension": ".py",
   "mimetype": "text/x-python",
   "name": "python",
   "nbconvert_exporter": "python",
   "pygments_lexer": "ipython3",
   "version": "3.8.8"
  }
 },
 "nbformat": 4,
 "nbformat_minor": 5
}
